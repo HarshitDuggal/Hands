{
 "cells": [
  {
   "cell_type": "code",
   "execution_count": null,
   "metadata": {},
   "outputs": [],
   "source": [
    "#import necessary packages for hand gesture \n",
    "import cv2\n",
    "import numpy as np\n",
    "import mediapipe as mp\n",
    "import tensorflow as tf\n",
    "from tensorflow.keras.models import load_model"
   ]
  },
  {
   "cell_type": "code",
   "execution_count": null,
   "metadata": {},
   "outputs": [],
   "source": [
    "#initialize  mediapipe\n",
    "mpHands = mp.solutions.hands\n",
    "hands = mpHands.Hands(max_num_hands =1,min_detection_confidence=0.7)\n",
    "mpDraw = mp.solutions.drawing_utils"
   ]
  },
  {
   "cell_type": "code",
   "execution_count": null,
   "metadata": {},
   "outputs": [],
   "source": [
    "#loading the gesture recognizer model\n",
    "model = load_model('mp_hand_gesture')\n",
    "\n",
    "#Loading class names\n",
    "f = open('gesture.names','r')\n",
    "classNames = f.read().split('\\n')\n",
    "f.close()\n",
    "print(classNames)"
   ]
  },
  {
   "cell_type": "code",
   "execution_count": null,
   "metadata": {},
   "outputs": [],
   "source": []
  },
  {
   "cell_type": "code",
   "execution_count": null,
   "metadata": {},
   "outputs": [],
   "source": [
    "cap = cv2.VideoCapture(0)\n",
    "webcam.release()\n",
    "while True:\n",
    "    #Read each frame from the webcam\n",
    "    _, frame = cap.read()\n",
    "    x , y , c = frame.shape\n",
    "    \n",
    "    #Flip the frame vertically\n",
    "    frame = cv2.flip(frame,1)\n",
    "    #show the final output\n",
    "    cv2.imshow(\"Output\",frame)\n",
    "    if cv2.waitKey(1) == ord('q'):\n",
    "        break\n",
    "        \n",
    "    #release the webcam and destroy all active windows\n",
    "    cap.release()\n",
    "    cv2.destroyAllWindows()"
   ]
  },
  {
   "cell_type": "code",
   "execution_count": null,
   "metadata": {},
   "outputs": [],
   "source": [
    "framergb = cv2.cvtColor(frame, cv2.COLOR_BGR2RGB)\n",
    "  # Get hand landmark prediction\n",
    "result = hands.process(framergb)\n",
    "\n",
    "className = ''\n",
    "\n",
    "  # post process the result\n",
    "if result.multi_hand_landmarks:\n",
    "      landmarks = []\n",
    "    for handslms in result.multi_hand_landmarks:\n",
    "          for lm in handslms.landmark:\n",
    "              # print(id, lm)\n",
    "              lmx = int(lm.x * x)\n",
    "            lmy = int(lm.y * y)\n",
    "\n",
    "              landmarks.append([lmx, lmy])\n",
    "\n",
    "          # Drawing landmarks on frames\n",
    "          mpDraw.draw_landmarks(frame, handslms, \n",
    "mpHands.HAND_CONNECTIONS)"
   ]
  },
  {
   "cell_type": "code",
   "execution_count": null,
   "metadata": {},
   "outputs": [],
   "source": [
    "# Predict gesture in Hand Gesture Recognition project\n",
    "          prediction = model.predict([landmarks])\n",
    "print(prediction)\n",
    "          classID = np.argmax(prediction)\n",
    "          className = classNames[classID]\n",
    "\n",
    "  # show the prediction on the frame\n",
    "  cv2.putText(frame, className, (10, 50), cv2.FONT_HERSHEY_SIMPLEX,\n",
    "                 1, (0,0,255), 2, cv2.LINE_AA)"
   ]
  },
  {
   "cell_type": "code",
   "execution_count": null,
   "metadata": {},
   "outputs": [],
   "source": []
  }
 ],
 "metadata": {
  "kernelspec": {
   "display_name": "Python 3",
   "language": "python",
   "name": "python3"
  },
  "language_info": {
   "codemirror_mode": {
    "name": "ipython",
    "version": 3
   },
   "file_extension": ".py",
   "mimetype": "text/x-python",
   "name": "python",
   "nbconvert_exporter": "python",
   "pygments_lexer": "ipython3",
   "version": "3.8.3"
  }
 },
 "nbformat": 4,
 "nbformat_minor": 4
}
